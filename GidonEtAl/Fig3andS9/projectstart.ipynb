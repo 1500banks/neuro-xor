{
 "cells": [
  {
   "cell_type": "code",
   "execution_count": 1,
   "metadata": {},
   "outputs": [],
   "source": [
    "import neuron\n",
    "from neuron import h\n",
    "import numpy as np\n",
    "import matplotlib.pyplot as plt\n",
    "import pickle"
   ]
  },
  {
   "cell_type": "code",
   "execution_count": 2,
   "metadata": {},
   "outputs": [],
   "source": [
    "def save_vec(vec, name):\n",
    "    with open(f'{name}.npy', 'wb') as f:\n",
    "        np.save(f, vec)\n"
   ]
  },
  {
   "cell_type": "code",
   "execution_count": 3,
   "metadata": {},
   "outputs": [],
   "source": [
    "# load needed files\n",
    "h.load_file('helper.hoc')\n",
    "h.uncoupled(\"XY\")\n",
    "t_vec = h.Vector().record(h._ref_t)\n",
    "voltage = h.Vector().record(h.apic[76](0.5)._ref_v)\n",
    "h.run()\n",
    "timevec = np.array(t_vec)\n",
    "voltvec = np.array(voltage)\n",
    "plt.plot(timevec,voltvec)"
   ]
  },
  {
   "cell_type": "code",
   "execution_count": null,
   "metadata": {},
   "outputs": [],
   "source": [
    "# needed plots: 20hz x, 20hz , 20hz xy"
   ]
  },
  {
   "cell_type": "code",
   "execution_count": 4,
   "metadata": {},
   "outputs": [],
   "source": [
    "save_vec(voltvec, '18hz')"
   ]
  },
  {
   "cell_type": "code",
   "execution_count": null,
   "metadata": {},
   "outputs": [],
   "source": [
    "# 10 hz, xy showed 4 spikes \n",
    "# 20 hz, xy shows no visible spikes, but records many\n",
    "# 20 hz, x only shows regular spiking\n",
    "# 20 hz, y only shows regular spiking\n",
    "# at 20 hz, a full cycle is 5 ms, so phase shift could work via 5/4 delay shift"
   ]
  },
  {
   "cell_type": "code",
   "execution_count": null,
   "metadata": {},
   "outputs": [],
   "source": [
    "# at 20hz the effect cannot occur\n",
    "# at 10hz, there is no consistent firing\n",
    "# at 15 hz, the xor flips to not xor, but still has same reaction delay issue."
   ]
  },
  {
   "cell_type": "code",
   "execution_count": null,
   "metadata": {},
   "outputs": [],
   "source": [
    "# perhaps synapses are just carrier wave, but then actual information would need to be at far lower frequencies\n",
    "# this would be prohibitively slow. Not a likely avenue for the human brain"
   ]
  }
 ],
 "metadata": {
  "kernelspec": {
   "display_name": "Python 3",
   "language": "python",
   "name": "python3"
  },
  "language_info": {
   "codemirror_mode": {
    "name": "ipython",
    "version": 3
   },
   "file_extension": ".py",
   "mimetype": "text/x-python",
   "name": "python",
   "nbconvert_exporter": "python",
   "pygments_lexer": "ipython3",
   "version": "3.9.6"
  },
  "orig_nbformat": 4
 },
 "nbformat": 4,
 "nbformat_minor": 2
}
